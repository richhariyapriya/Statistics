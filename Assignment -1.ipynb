{
 "cells": [
  {
   "cell_type": "markdown",
   "id": "31805c88",
   "metadata": {},
   "source": [
    "### 1.Harvard Law School courses often have assigned seating to facilitate the “Socratic method.”\n",
    "Suppose that there are 100 first year Harvard Law students, and each takes two courses:\n",
    "Torts and Contracts. Both are held in the same lecture hall (which has 100 seats), and the\n",
    "seating is uniformly random and independent for the two courses.\n",
    "(a) Find the probability that no one has the same seat for both courses (exactly; you should\n",
    "leave your answer as a sum).\n",
    "(b) Find a simple but accurate approximation to the probability that no one has the same\n",
    "seat for both courses.\n",
    "(c) Find a simple but accurate approximation to the probability that at least two students\n",
    "have the same seat for both courses."
   ]
  },
  {
   "cell_type": "markdown",
   "id": "4c63f971",
   "metadata": {},
   "source": [
    "**Ans:-** Let's analyze the problem step by step:\n",
    "\n",
    "(a) Find the probability that no one has the same seat for both courses.\n",
    "\n",
    "To find this probability, let's consider the first student. There are 100 seats, so the probability that the student does not have the same seat in the second course is (99/100) since there is only one seat out of 100 that is the same. For the second student, there are now 99 seats remaining, so the probability is (98/99), and so on. The probability for the nth student is (100 - n + 1)/(100 - n + 2).\n",
    "\n",
    "The probability that no one has the same seat for both courses is the product of these individual probabilities:\n",
    "\n",
    "\\[ P(\\text{no same seat}) = \\frac{99}{100} \\times \\frac{98}{99} \\times \\frac{97}{98} \\times \\ldots \\times \\frac{2}{3} \\times \\frac{1}{2} \\times \\frac{1}{1} \\]\n",
    "\n",
    "Notice that many terms cancel out, and we are left with \\( \\frac{1}{100} \\).\n",
    "\n",
    "(b) Find a simple but accurate approximation to the probability that no one has the same seat for both courses.\n",
    "\n",
    "In a large population, the probability of any one student getting the same seat is small. So, for each student, the probability of not getting the same seat is approximately \\( \\frac{99}{100} \\). Since there are 100 students, the overall probability is \\( \\left(\\frac{99}{100}\\right)^{100} \\).\n",
    "\n",
    "(c) Find a simple but accurate approximation to the probability that at least two students have the same seat for both courses.\n",
    "\n",
    "Use the complement probability. The probability that at least two students have the same seat is \\( 1 - P(\\text{no same seat}) \\). Using the approximation from part (b), the probability is approximately \\( 1 - \\left(\\frac{99}{100}\\right)^{100} \\)."
   ]
  },
  {
   "cell_type": "markdown",
   "id": "c383b134",
   "metadata": {},
   "source": [
    "### 2 There are 100 passengers lined up to board an airplane with 100 seats (with each seat\n",
    "assigned to one of the passengers). The first passenger in line crazily decides to sit in a\n",
    "randomly chosen seat (with all seats equally likely). Each subsequent passenger takes his or\n",
    "her assigned seat if available, and otherwise sits in a random available seat. What is the\n",
    "probability that the last passenger in line gets to sit in his or her assigned seat?"
   ]
  },
  {
   "cell_type": "markdown",
   "id": "a5539daf",
   "metadata": {},
   "source": [
    "**Ans:-** This problem is a classic example of the famous \"Two Envelopes Problem\" or the \"Hat Check Problem.\" The key insight is that the probability is always 1/2, regardless of the number of passengers.\n",
    "\n",
    "Let's see why:\n",
    "\n",
    "Consider the first person. They can either sit in their assigned seat (with probability 1/100) or sit in any other seat (with probability 99/100).\n",
    "\n",
    "Now, consider the second person. If the first person sat in their assigned seat, the second person will definitely sit in their assigned seat (probability 1). If the first person did not sit in their assigned seat, the second person now faces the same situation as the first person did. The probability that the second person sits in their assigned seat is 1/100, and the probability that they do not is 99/100.\n",
    "\n",
    "This pattern continues for each subsequent person. In general, the probability that a person sits in their assigned seat is always 1/100, and the probability that they do not is 99/100.\n",
    "\n",
    "So, the probability that the last person sits in their assigned seat is the product of all these probabilities:\n",
    "\n",
    "\\[ P(\\text{last person sits in assigned seat}) = \\frac{1}{100} \\times \\frac{99}{100} \\times \\frac{99}{100} \\times \\ldots \\times \\frac{99}{100} \\]\n",
    "\n",
    "Since there are 100 passengers, there are 99 occurrences of \\(\\frac{99}{100}\\). Therefore:\n",
    "\n",
    "\\[ P(\\text{last person sits in assigned seat}) = \\frac{1}{100} \\times \\left(\\frac{99}{100}\\right)^{99} \\]\n",
    "\n",
    "This probability is approximately \\( \\frac{1}{2} \\)."
   ]
  },
  {
   "cell_type": "code",
   "execution_count": null,
   "id": "8830ad31",
   "metadata": {},
   "outputs": [],
   "source": []
  }
 ],
 "metadata": {
  "kernelspec": {
   "display_name": "Python 3 (ipykernel)",
   "language": "python",
   "name": "python3"
  },
  "language_info": {
   "codemirror_mode": {
    "name": "ipython",
    "version": 3
   },
   "file_extension": ".py",
   "mimetype": "text/x-python",
   "name": "python",
   "nbconvert_exporter": "python",
   "pygments_lexer": "ipython3",
   "version": "3.9.7"
  }
 },
 "nbformat": 4,
 "nbformat_minor": 5
}
