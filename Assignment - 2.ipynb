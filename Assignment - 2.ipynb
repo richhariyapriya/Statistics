{
 "cells": [
  {
   "cell_type": "markdown",
   "id": "b85aebc4",
   "metadata": {},
   "source": [
    "### 1.Raindrops are falling at an average rate of 20 drops per square inch per minute. What would\n",
    "be a reasonable distribution to use for the number of raindrops hitting a particular region\n",
    "measuring 5 inches2 in t minutes? Why? Using your chosen distribution, compute the\n",
    "probability that the region has no rain drops in a given 3 second time interval. A reasonable\n",
    "choice of distribution is P"
   ]
  },
  {
   "cell_type": "markdown",
   "id": "72c4d721",
   "metadata": {},
   "source": [
    "**Ans:-** In this scenario, a reasonable distribution to model the number of raindrops hitting a particular region in a given time interval is the Poisson distribution. The Poisson distribution is often used to model the number of events that occur in a fixed interval of time or space when these events happen with a known constant mean rate and independently of the time since the last event.\n",
    "\n",
    "The Poisson distribution has a probability mass function (PMF) given by:\n",
    "\n",
    "\\[ P(X = k) = \\frac{e^{-\\lambda} \\cdot \\lambda^k}{k!} \\]\n",
    "\n",
    "where:\n",
    "- \\(X\\) is the number of events (raindrops),\n",
    "- \\(k\\) is a non-negative integer (the number of events),\n",
    "- \\(\\lambda\\) is the average rate of events per unit of time (in this case, the average rate of raindrops per square inch per minute), and\n",
    "- \\(e\\) is the base of the natural logarithm.\n",
    "\n",
    "For the given problem, let's denote the average rate of raindrops per square inch per minute as \\(\\lambda\\). Since the rate is given as 20 drops per square inch per minute, we have \\(\\lambda = 20\\).\n",
    "\n",
    "Now, you're interested in the probability that the region has no raindrops in a given 3-second time interval. First, you need to convert the time interval to minutes since the rate is given in drops per square inch per minute.\n",
    "\n",
    "\\[ \\text{3 seconds} = \\frac{3}{60} \\text{ minutes} \\]\n",
    "\n",
    "Now, plug in the values into the Poisson PMF:\n",
    "\n",
    "\\[ P(X = 0) = \\frac{e^{-20 \\cdot \\frac{3}{60}} \\cdot (20 \\cdot \\frac{3}{60})^0}{0!} \\]\n",
    "\n",
    "Simplify this expression to find the probability that the region has no raindrops in the given 3-second time interval."
   ]
  },
  {
   "cell_type": "markdown",
   "id": "237a2f79",
   "metadata": {},
   "source": [
    "### 2.Let X be a random day of the week, coded so that Monday is 1, Tuesday is 2, etc. (so X takes\n",
    "values 1, 2,..., 7, with equal probabilities). Let Y be the next day after X (again represented as\n",
    "an integer between 1 and 7). Do X and Y have the same distribution? What is P(X)"
   ]
  },
  {
   "cell_type": "markdown",
   "id": "895fcd41",
   "metadata": {},
   "source": [
    "**Ans:-** Let's analyze the random variables X and Y.\n",
    "\n",
    "X represents a random day of the week, coded so that Monday is 1, Tuesday is 2, and so on, up to Sunday being 7. Thus, X has a discrete uniform distribution over the integers 1 through 7, with each value having an equal probability of \\(\\frac{1}{7}\\).\n",
    "\n",
    "Now, let's define Y as the next day after X. If X is 1 (Monday), then Y is 2 (Tuesday). If X is 2 (Tuesday), then Y is 3 (Wednesday), and so on, until if X is 7 (Sunday), then Y is 1 (Monday).\n",
    "\n",
    "Since Y is essentially X plus 1 (with wrapping around back to 1 when X is 7), the distributions of X and Y are the same. Both X and Y have a discrete uniform distribution over the integers 1 through 7, with each value having a probability of \\(\\frac{1}{7}\\).\n",
    "\n",
    "Therefore, \\(P(X = k) = \\frac{1}{7}\\) for each \\(k\\) in the range 1 through 7."
   ]
  },
  {
   "cell_type": "code",
   "execution_count": null,
   "id": "08bbc9dc",
   "metadata": {},
   "outputs": [],
   "source": []
  }
 ],
 "metadata": {
  "kernelspec": {
   "display_name": "Python 3 (ipykernel)",
   "language": "python",
   "name": "python3"
  },
  "language_info": {
   "codemirror_mode": {
    "name": "ipython",
    "version": 3
   },
   "file_extension": ".py",
   "mimetype": "text/x-python",
   "name": "python",
   "nbconvert_exporter": "python",
   "pygments_lexer": "ipython3",
   "version": "3.9.7"
  }
 },
 "nbformat": 4,
 "nbformat_minor": 5
}
