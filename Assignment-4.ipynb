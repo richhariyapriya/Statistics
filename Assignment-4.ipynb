{
 "cells": [
  {
   "cell_type": "markdown",
   "id": "e0a0ecc0",
   "metadata": {},
   "source": [
    "### 1.Is it possible that an event is independent of itself? If so, when?"
   ]
  },
  {
   "cell_type": "markdown",
   "id": "027b9d37",
   "metadata": {},
   "source": [
    "**Ans:-** No, an event cannot be independent of itself. In probability theory, the concept of independence between events refers to the idea that the occurrence or non-occurrence of one event does not affect the probability of the occurrence or non-occurrence of another event.\n",
    "\n",
    "Formally, events A and B are considered independent if:\n",
    "\n",
    "\\[ P(A \\cap B) = P(A) \\cdot P(B) \\]\n",
    "\n",
    "This equation implies that knowing whether event A occurred or not provides no information about the likelihood of event B occurring, and vice versa.\n",
    "\n",
    "If we were to consider an event being independent of itself, it would imply:\n",
    "\n",
    "\\[ P(A \\cap A) = P(A) \\cdot P(A) \\]\n",
    "\n",
    "However, this would mean that the probability of both A and A occurring is equal to the square of the probability of A occurring. For any non-trivial event (i.e., an event with a probability other than 0 or 1), this equality does not hold, and it violates the definition of independence. Therefore, it is not meaningful to talk about an event being independent of itself in classical probability theory."
   ]
  },
  {
   "cell_type": "markdown",
   "id": "5fc5baaf",
   "metadata": {},
   "source": [
    "### 2.Is it always true that if A and B are independent events, then Ac and Bc are independent\n",
    "events? Show that it is, or give a counterexample."
   ]
  },
  {
   "cell_type": "markdown",
   "id": "88f3cc2f",
   "metadata": {},
   "source": [
    "**Ans:-** If A and B are independent events, it does not necessarily mean that their complements (Ac and Bc) are independent. In fact, the independence of A and B does not automatically imply the independence of their complements.\n",
    "\n",
    "The definition of independence for events A and B is given by:\n",
    "\n",
    "\\[ P(A \\cap B) = P(A) \\cdot P(B) \\]\n",
    "\n",
    "Now, let's consider the complements. The complement of an event A is denoted by Ac and represents the event that A does not occur.\n",
    "\n",
    "The complement of event A is defined as:\n",
    "\n",
    "\\[ P(Ac) = 1 - P(A) \\]\n",
    "\n",
    "Similarly, for event B:\n",
    "\n",
    "\\[ P(Bc) = 1 - P(B) \\]\n",
    "\n",
    "Now, let's see if \\(P(Ac \\cap Bc) = P(Ac) \\cdot P(Bc)\\) holds in general. Substituting the complement definitions:\n",
    "\n",
    "\\[ P(Ac \\cap Bc) = P((A \\cup B)') \\]\n",
    "\n",
    "Here, \\((A \\cup B)'\\) represents the complement of the union of A and B. In general, the complement of a union is not equal to the intersection of complements.\n",
    "\n",
    "Therefore, it is not always true that if A and B are independent events, then Ac and Bc are independent events. A counterexample can be constructed by considering events A and B such that they are independent, but their complements are not independent."
   ]
  },
  {
   "cell_type": "code",
   "execution_count": null,
   "id": "369335cc",
   "metadata": {},
   "outputs": [],
   "source": []
  }
 ],
 "metadata": {
  "kernelspec": {
   "display_name": "Python 3 (ipykernel)",
   "language": "python",
   "name": "python3"
  },
  "language_info": {
   "codemirror_mode": {
    "name": "ipython",
    "version": 3
   },
   "file_extension": ".py",
   "mimetype": "text/x-python",
   "name": "python",
   "nbconvert_exporter": "python",
   "pygments_lexer": "ipython3",
   "version": "3.9.7"
  }
 },
 "nbformat": 4,
 "nbformat_minor": 5
}
