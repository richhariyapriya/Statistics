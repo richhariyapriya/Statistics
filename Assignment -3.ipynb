{
 "cells": [
  {
   "cell_type": "markdown",
   "id": "d3566320",
   "metadata": {},
   "source": [
    "### 1.For a group of 7 people, find the probability that all 4 seasons (winter, spring, summer, fall)\n",
    "occur at least once each among their birthdays, assuming that all seasons are equally likely."
   ]
  },
  {
   "cell_type": "markdown",
   "id": "4207bdd2",
   "metadata": {},
   "source": [
    "**Ans:-** To find the probability that all four seasons occur at least once among the birthdays of a group of 7 people, we can use the principle of inclusion-exclusion.\n",
    "\n",
    "Let \\(A_i\\) be the event that season \\(i\\) (where \\(i = 1\\) for winter, \\(2\\) for spring, \\(3\\) for summer, \\(4\\) for fall) is not represented among the birthdays.\n",
    "\n",
    "The total number of outcomes (ways the birthdays can be distributed among the seasons) is \\(4^7\\) because each person can be born in one of the four seasons, and there are 7 people.\n",
    "\n",
    "The number of outcomes where at least one season is missing is given by the sum of \\(|A_1 \\cup A_2 \\cup A_3 \\cup A_4|\\).\n",
    "\n",
    "Using the inclusion-exclusion principle, we get:\n",
    "\n",
    "\\[ |A_1 \\cup A_2 \\cup A_3 \\cup A_4| = \\sum_{i=1}^{4} |A_i| - \\sum_{1 \\leq i < j \\leq 4} |A_i \\cap A_j| + \\sum_{1 \\leq i < j < k \\leq 4} |A_i \\cap A_j \\cap A_k| - |A_1 \\cap A_2 \\cap A_3 \\cap A_4| \\]\n",
    "\n",
    "Let's calculate each term:\n",
    "\n",
    "\\[ |A_i| = 3^7 \\]\n",
    "\\[ |A_i \\cap A_j| = 2^7 \\]\n",
    "\\[ |A_i \\cap A_j \\cap A_k| = 1^7 = 1 \\]\n",
    "\\[ |A_1 \\cap A_2 \\cap A_3 \\cap A_4| = 0 \\]\n",
    "\n",
    "Substitute these values into the inclusion-exclusion formula:\n",
    "\n",
    "\\[ |A_1 \\cup A_2 \\cup A_3 \\cup A_4| = \\sum_{i=1}^{4} |A_i| - \\sum_{1 \\leq i < j \\leq 4} |A_i \\cap A_j| + \\sum_{1 \\leq i < j < k \\leq 4} |A_i \\cap A_j \\cap A_k| - |A_1 \\cap A_2 \\cap A_3 \\cap A_4| \\]\n",
    "\n",
    "\\[ = 4 \\cdot 3^7 - \\binom{4}{2} \\cdot 2^7 + \\binom{4}{3} \\cdot 1 - 0 \\]\n",
    "\n",
    "Finally, the probability that all four seasons occur at least once among the birthdays is given by:\n",
    "\n",
    "\\[ P(\\text{All seasons occur}) = 1 - \\frac{|A_1 \\cup A_2 \\cup A_3 \\cup A_4|}{4^7} \\]\n",
    "\n",
    "Plug in the values and calculate."
   ]
  },
  {
   "cell_type": "markdown",
   "id": "ba2118ea",
   "metadata": {},
   "source": [
    "### 2.Alice attends a small college in which each class meets only once a week. She is deciding\n",
    "between 30 non-overlapping classes. There are 6 classes to choose from for each day of the\n",
    "week, Monday through Friday. Trusting in the benevolence of randomness, Alice decides to\n",
    "register for 7 randomly selected classes out of the 30, with all choices equally likely. What is\n",
    "the probability that she will have classes every day, Monday through Friday?"
   ]
  },
  {
   "cell_type": "markdown",
   "id": "2ba615cf",
   "metadata": {},
   "source": [
    "**Ans:-** To find the probability that Alice will have classes every day, Monday through Friday, we can use the principle of inclusion-exclusion.\n",
    "\n",
    "Let's denote the events \\(A_i\\) as the event that Alice has no class on day \\(i\\), where \\(i\\) ranges from Monday (1) to Friday (5). Let \\(S\\) be the sample space, which is the set of all possible ways Alice can choose 7 classes out of 30, with each choice equally likely.\n",
    "\n",
    "We are interested in finding \\(P(\\text{Classes every day})\\), which is equivalent to finding \\(1 - P(\\text{At least one day with no class})\\).\n",
    "\n",
    "\\[ P(\\text{Classes every day}) = 1 - P(\\bigcup_{i=1}^{5} A_i) \\]\n",
    "\n",
    "Using the inclusion-exclusion principle:\n",
    "\n",
    "\\[ P(\\bigcup_{i=1}^{5} A_i) = \\sum_{i=1}^{5} P(A_i) - \\sum_{1 \\leq i < j \\leq 5} P(A_i \\cap A_j) + \\sum_{1 \\leq i < j < k \\leq 5} P(A_i \\cap A_j \\cap A_k) - \\ldots + (-1)^4 P(\\bigcap_{i=1}^{5} A_i) \\]\n",
    "\n",
    "Now, let's calculate the individual probabilities:\n",
    "\n",
    "\\[ P(A_i) = \\frac{\\text{Number of ways to choose 7 classes without day } i}{\\text{Total number of ways to choose 7 classes}} \\]\n",
    "\n",
    "Since there are 6 classes available for each day, the number of ways to choose 7 classes without day \\(i\\) is \\(\\binom{30-6}{7}\\).\n",
    "\n",
    "\\[ P(A_i \\cap A_j) = \\frac{\\text{Number of ways to choose 7 classes without days } i \\text{ and } j}{\\text{Total number of ways to choose 7 classes}} \\]\n",
    "\n",
    "Similarly, the number of ways to choose 7 classes without days \\(i\\) and \\(j\\) is \\(\\binom{30-12}{7}\\).\n",
    "\n",
    "Continue this process for the higher order intersections. Finally, calculate the probability using the inclusion-exclusion formula:\n",
    "\n",
    "\\[ P(\\text{Classes every day}) = 1 - \\frac{\\sum_{i=1}^{5} \\binom{30-6}{7} - \\binom{5}{2} \\binom{30-12}{7} + \\binom{5}{3} \\binom{30-18}{7} - \\binom{5}{4} \\binom{30-24}{7} + \\binom{5}{5} \\binom{30-30}{7}}{\\binom{30}{7}} \\]\n",
    "\n",
    "This probability represents the chance that Alice will have classes every day, Monday through Friday."
   ]
  },
  {
   "cell_type": "code",
   "execution_count": null,
   "id": "49d71d10",
   "metadata": {},
   "outputs": [],
   "source": []
  }
 ],
 "metadata": {
  "kernelspec": {
   "display_name": "Python 3 (ipykernel)",
   "language": "python",
   "name": "python3"
  },
  "language_info": {
   "codemirror_mode": {
    "name": "ipython",
    "version": 3
   },
   "file_extension": ".py",
   "mimetype": "text/x-python",
   "name": "python",
   "nbconvert_exporter": "python",
   "pygments_lexer": "ipython3",
   "version": "3.9.7"
  }
 },
 "nbformat": 4,
 "nbformat_minor": 5
}
